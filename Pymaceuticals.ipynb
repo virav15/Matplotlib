# Dependencies
from matplotlib import pyplot as plt
from scipy.stats import linregress
import numpy as np
import pandas as pd
import seaborn as sns